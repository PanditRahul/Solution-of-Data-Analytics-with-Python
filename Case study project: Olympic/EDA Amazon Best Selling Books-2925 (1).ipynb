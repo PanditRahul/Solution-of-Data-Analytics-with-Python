{
  "nbformat": 4,
  "nbformat_minor": 0,
  "metadata": {
    "colab": {
      "name": "EDA - Amazon's Best Selling Books.ipynb",
      "provenance": []
    },
    "kernelspec": {
      "name": "python3",
      "display_name": "Python 3"
    },
    "language_info": {
      "name": "python"
    }
  },
  "cells": [
    {
      "cell_type": "markdown",
      "source": [
        "George is the content head of a prestigious book publishing company. He needs to decide on which type/genre of book to publish next so that it can become a bestseller. Now you as the Data Analyst have chosen to research how users respond to different types of genres. This is the opportunity for you to shine like a star and show your data analytics skill. Let’s start the process by performing EDA on the provided Dataset.\n",
        "\n",
        "[Dataset](https://docs.google.com/spreadsheets/d/1bCYeC2tX1-Lkp-zeAkmRRckM4m8vR8CnHxK2aJXSVIs/edit#gid=1322732088)\n"
      ],
      "metadata": {
        "id": "z6q1-uICSrhE"
      }
    },
    {
      "cell_type": "markdown",
      "source": [
        "In this work, exploratory data analysis has been carried out on the dataset Amazon's Top 50 bestselling books from 2009 to 2019.\n",
        "\n",
        "FEATURES:\n",
        "\n",
        "Name - Name of the Book\n",
        "\n",
        "Author - The author of the Book\n",
        "\n",
        "User Rating - Amazon User Rating\n",
        "\n",
        "Reviews - Number of written reviews on amazon\n",
        "\n",
        "Price - The price of the book (As at 13/10/2020)\n",
        "\n",
        "Year - The Year(s) it ranked on the bestseller\n",
        "\n",
        "Genre - Whether fiction or non-fiction"
      ],
      "metadata": {
        "id": "jGCtb6WMS7iE"
      }
    },
    {
      "cell_type": "markdown",
      "source": [
        "## Understand your dataset:\n",
        "\n",
        "In this section we are going to get some basic information about our dataset like:\n",
        "- Read the dataset\n",
        "- Get the basic info about the data set.\n",
        "- Find out about the missing values.\n",
        "- Describe the numerical values on various parameters.\n",
        "- Datatype of columns\n",
        "\n",
        "\n"
      ],
      "metadata": {
        "id": "-ffkTaDPTEeU"
      }
    },
    {
      "cell_type": "markdown",
      "source": [
        "### Data types"
      ],
      "metadata": {
        "id": "eXAip6uNTYt5"
      }
    },
    {
      "cell_type": "code",
      "source": [
        ""
      ],
      "metadata": {
        "id": "y2jT7AwRSq9C"
      },
      "execution_count": null,
      "outputs": []
    },
    {
      "cell_type": "markdown",
      "source": [
        "### Missing Values"
      ],
      "metadata": {
        "id": "znHdyP9FTd63"
      }
    },
    {
      "cell_type": "code",
      "execution_count": null,
      "metadata": {
        "id": "DT_oerPmSbl3"
      },
      "outputs": [],
      "source": [
        ""
      ]
    },
    {
      "cell_type": "markdown",
      "source": [
        "### Handling Duplicates"
      ],
      "metadata": {
        "id": "CPTvqm4ITge_"
      }
    },
    {
      "cell_type": "markdown",
      "source": [
        "Check if the columns contains words in different case and extra spaces.\n",
        "\n",
        "Also check if there are the same author names but with different spellings."
      ],
      "metadata": {
        "id": "qXJEX9hXTkTS"
      }
    },
    {
      "cell_type": "code",
      "source": [
        ""
      ],
      "metadata": {
        "id": "HTEA3fv-TiIX"
      },
      "execution_count": null,
      "outputs": []
    },
    {
      "cell_type": "markdown",
      "source": [
        "After handling missing values are removing duplicates, the data contains 350 different books written by 246 authors. All books are presented in two categories (Non Fiction, Fiction)."
      ],
      "metadata": {
        "id": "UnTduzk9T2El"
      }
    },
    {
      "cell_type": "code",
      "source": [
        ""
      ],
      "metadata": {
        "id": "qolKF65YT7Tu"
      },
      "execution_count": null,
      "outputs": []
    },
    {
      "cell_type": "markdown",
      "source": [
        "## Book Ratings"
      ],
      "metadata": {
        "id": "bpJu6d31T-W1"
      }
    },
    {
      "cell_type": "markdown",
      "source": [
        "Ranking by rating gives a relatively high number of max (4.9) ratings, however, we can see significant differences in the number of reviews, with some books having just over 3000 reviews while some have about 20,000.\n",
        "\n",
        "A weighted rating, that takes into consideration the number of reviews, will be a better option for this ranking.\n",
        "\n",
        "\n",
        "\n",
        "> **Weighted Average Rating = (v/(v+m) * R) + (m/(m+v) * C)**\n",
        "\n",
        "\n",
        "\n",
        "\n",
        "where R = average rating for the book\n",
        "\n",
        "v = number of reviews for the book\n",
        "\n",
        "m = minimum reviews required to be listed in the best seller list\n",
        "\n",
        "C = the mean rating in the dataset"
      ],
      "metadata": {
        "id": "_7mnkscDUH49"
      }
    },
    {
      "cell_type": "markdown",
      "source": [
        "While a number of rows in the weighted rating column can still be rounded up to 4.9, there is enough of a difference between the various books that they can be ranked."
      ],
      "metadata": {
        "id": "yDI6JhwZUfWA"
      }
    },
    {
      "cell_type": "markdown",
      "source": [
        "### Add Weighted Average Rating Column to the dataset"
      ],
      "metadata": {
        "id": "pnLQx5JkUhcy"
      }
    },
    {
      "cell_type": "code",
      "source": [
        ""
      ],
      "metadata": {
        "id": "pHrP9MW0UnUj"
      },
      "execution_count": null,
      "outputs": []
    },
    {
      "cell_type": "markdown",
      "source": [
        "## Visualizing the data"
      ],
      "metadata": {
        "id": "77UvgZ9GUmuc"
      }
    },
    {
      "cell_type": "markdown",
      "source": [
        "Let's create new dataframes based on:\n",
        "\n",
        "### The average rating of authors"
      ],
      "metadata": {
        "id": "sRyb1dkPUqRz"
      }
    },
    {
      "cell_type": "code",
      "source": [
        ""
      ],
      "metadata": {
        "id": "_kJ1i76rUBbt"
      },
      "execution_count": null,
      "outputs": []
    },
    {
      "cell_type": "markdown",
      "source": [
        "### The number of books written by authors"
      ],
      "metadata": {
        "id": "OJhgWqiuVqWT"
      }
    },
    {
      "cell_type": "code",
      "source": [
        ""
      ],
      "metadata": {
        "id": "_TT3oBACVwFI"
      },
      "execution_count": null,
      "outputs": []
    },
    {
      "cell_type": "markdown",
      "source": [
        "### The number of reviews for books"
      ],
      "metadata": {
        "id": "iVLdC1-GVwe6"
      }
    },
    {
      "cell_type": "code",
      "source": [
        ""
      ],
      "metadata": {
        "id": "rsHvrudnVz1T"
      },
      "execution_count": null,
      "outputs": []
    },
    {
      "cell_type": "markdown",
      "source": [
        "### The number of books by genre"
      ],
      "metadata": {
        "id": "zs-X0RAKV0NQ"
      }
    },
    {
      "cell_type": "code",
      "source": [
        ""
      ],
      "metadata": {
        "id": "AmmjARwiV3gg"
      },
      "execution_count": null,
      "outputs": []
    },
    {
      "cell_type": "markdown",
      "source": [
        "## Statistical Testing\n",
        "\n",
        "### Is the dataset distributed normally?\n"
      ],
      "metadata": {
        "id": "GWFoHh7OU97H"
      }
    },
    {
      "cell_type": "code",
      "source": [
        ""
      ],
      "metadata": {
        "id": "9UZpoJo0VAWz"
      },
      "execution_count": null,
      "outputs": []
    },
    {
      "cell_type": "markdown",
      "source": [
        "### Average and median book ratings"
      ],
      "metadata": {
        "id": "k1ftwH6bVCc8"
      }
    },
    {
      "cell_type": "code",
      "source": [
        ""
      ],
      "metadata": {
        "id": "q-Gnn8f4VGCV"
      },
      "execution_count": null,
      "outputs": []
    },
    {
      "cell_type": "markdown",
      "source": [
        "### If there are outliers in the dataset."
      ],
      "metadata": {
        "id": "iVhOUldkVIBF"
      }
    },
    {
      "cell_type": "code",
      "source": [
        ""
      ],
      "metadata": {
        "id": "wco0HAm3VIr6"
      },
      "execution_count": null,
      "outputs": []
    },
    {
      "cell_type": "markdown",
      "source": [
        "### Correlation between User ratings, reviews and price."
      ],
      "metadata": {
        "id": "TU15UBRAVKEz"
      }
    },
    {
      "cell_type": "code",
      "source": [
        ""
      ],
      "metadata": {
        "id": "N__YspwXVKv3"
      },
      "execution_count": null,
      "outputs": []
    },
    {
      "cell_type": "markdown",
      "source": [
        "To this point, we have a great level of understanding of our dataset. Now we can easily move to our main question:\n",
        "\n",
        "**Do users evaluate books differently depending on the genre.**\n",
        "\n",
        "We can divide this question into parts:\n"
      ],
      "metadata": {
        "id": "TJno2o3bVQQK"
      }
    },
    {
      "cell_type": "markdown",
      "source": [
        "### Formulate the null and alternative hypotheses."
      ],
      "metadata": {
        "id": "xq-ohB2mVcFh"
      }
    },
    {
      "cell_type": "code",
      "source": [
        ""
      ],
      "metadata": {
        "id": "rqF0ZHjhVSwP"
      },
      "execution_count": null,
      "outputs": []
    },
    {
      "cell_type": "markdown",
      "source": [
        "### Checking the distribution for normality."
      ],
      "metadata": {
        "id": "GYjEwfOzVebF"
      }
    },
    {
      "cell_type": "code",
      "source": [
        ""
      ],
      "metadata": {
        "id": "uwYOa2vZVfyo"
      },
      "execution_count": null,
      "outputs": []
    },
    {
      "cell_type": "markdown",
      "source": [
        "### Form two samples for testing."
      ],
      "metadata": {
        "id": "KPqWob1nVheS"
      }
    },
    {
      "cell_type": "code",
      "source": [
        ""
      ],
      "metadata": {
        "id": "FKypXv3bViCy"
      },
      "execution_count": null,
      "outputs": []
    },
    {
      "cell_type": "markdown",
      "source": [
        "### Carry out hypothesis testing."
      ],
      "metadata": {
        "id": "sxMdO5nbVjhz"
      }
    },
    {
      "cell_type": "code",
      "source": [
        ""
      ],
      "metadata": {
        "id": "kG7EOF4JVkH6"
      },
      "execution_count": null,
      "outputs": []
    }
  ]
}